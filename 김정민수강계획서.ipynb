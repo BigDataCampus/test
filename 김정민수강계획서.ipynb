{
 "cells": [
  {
   "cell_type": "markdown",
   "metadata": {},
   "source": [
    "김정민 "
   ]
  },
  {
   "cell_type": "markdown",
   "metadata": {},
   "source": [
    "# 빅데이터 교육 과정을 통해 하고 싶은 것들\n"
   ]
  },
  {
   "cell_type": "markdown",
   "metadata": {},
   "source": [
    "\n",
    "한달 전 해양수산공모전에 지원하였는데 저에게 부족한건 데이터 처리능력이었습니다, 수산관련 데이터를 받아왔지만, 제가 그것을 바탕으로 할 수 있는게 많지않았습니다. \n",
    "마찬가지로 졸업작품을 위해서 네이버카페인 <중고나라>에서 데이터를 크롤링하여 데이터셋을 만들고 전처리를 했지만 , 무의미한 데이터가 많아 그것을 가공하는데 많은 시간이 걸렸습니다. \n",
    "중고나라 카페에서 가격과 그 내용을 형태소분석을 통해 직거래 위치를 찾아내고 , 수요-공급 그래프를 그리는 작품이었지만 데이터를 분석하는 능력이 부족하여 프로젝트를 완료하지 못하였습니다.\n",
    "따라서 그 능력을 키우기 위해 교육에 임하고 있습니다. 프로젝트 또한 비슷한 방향으로 생각중입니다.데이터간의 연관관계를 찾고 분석을 통해 사람의 직관으로는 알 수 없었던 일을 해보고싶습니다. \n",
    "제가 관심이 있는 데이터는 의료데이터 , 인문학적인 데이터 등 사람과 관련이있는 데이터입니다. 데이터 형식은 이미지,텍스트,영상 등 다양한 데이터입니다\n"
   ]
  }
 ],
 "metadata": {
  "kernelspec": {
   "display_name": "Python 3",
   "language": "python",
   "name": "python3"
  },
  "language_info": {
   "codemirror_mode": {
    "name": "ipython",
    "version": 3
   },
   "file_extension": ".py",
   "mimetype": "text/x-python",
   "name": "python",
   "nbconvert_exporter": "python",
   "pygments_lexer": "ipython3",
   "version": "3.6.5"
  }
 },
 "nbformat": 4,
 "nbformat_minor": 2
}
